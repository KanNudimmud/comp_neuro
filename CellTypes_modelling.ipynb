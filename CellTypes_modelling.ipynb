{
  "cells": [
    {
      "cell_type": "markdown",
      "metadata": {
        "id": "cA5iWM72QqJ7"
      },
      "source": [
        "# Optimising the parameters of a simple neuron model\n",
        "\n",
        "____________\n",
        "## Introduction\n",
        "\n",
        "Building biologically-realistic models of neurons requires knowing values for many different parameters. When those are not known or hard to measure experimentally, we can use an optimisation library such as [BluePyOpt](https://github.com/BlueBrain/BluePyOpt) to constrain them with experimental data.\n",
        "\n",
        "\n",
        "### Overview:\n",
        "In this tutorial you will learn how to:\n",
        "\n",
        "* Create a **cell model**\n",
        "* Extract **electrical features** using eFEL and set up a **cell evaluator**\n",
        "* Run a **parameter optimization**\n",
        "* **Analyse** the results of an optimisation\n"
      ]
    },
    {
      "cell_type": "markdown",
      "metadata": {
        "id": "zI-wEMQcQqKA"
      },
      "source": [
        "## Load and visualise some electrophysiological data\n",
        "\n",
        "To model the electrical behaviour of neurons we can use electrophysiological data, recorded during a in vitro [patch clamp experiment](https://en.wikipedia.org/wiki/Patch_clamp). In these types of experiments we inject a current in the neuron and record the voltage response of its membrane.\n",
        "\n",
        "We are now going to visualise the response of a neuron to a depolarising (positive) current injection and to a hyperpolarising (negative) current."
      ]
    },
    {
      "cell_type": "code",
      "execution_count": 1,
      "metadata": {
        "colab": {
          "base_uri": "https://localhost:8080/",
          "height": 279
        },
        "id": "EyJuHCknQqKB",
        "outputId": "fd25e822-270e-4764-ab27-5677121eb928"
      },
      "outputs": [
        {
          "output_type": "display_data",
          "data": {
            "text/plain": [
              "<Figure size 432x288 with 2 Axes>"
            ],
            "image/png": "[encoded data removed]"
          },
          "metadata": {
            "needs_background": "light"
          }
        }
      ],
      "source": [
        "# Download some experimental data and save to file\n",
        "import numpy\n",
        "from urllib.request import urlopen\n",
        "import matplotlib.pyplot as plt\n",
        "%matplotlib inline\n",
        "\n",
        "fig, ax = plt.subplots(2, sharey = True)\n",
        "\n",
        "for i, filename in enumerate({'dep_trace.txt', 'hyp_trace.txt'}):\n",
        "    response = urlopen('https://bbpteam.epfl.ch/public/mooc-hbp/{}'.format(filename))\n",
        "    data = response.read()\n",
        "    with open(filename, \"wb\") as f:\n",
        "        f.write(data)\n",
        "        \n",
        "    trace = numpy.loadtxt(filename)    \n",
        "    ax[i].plot(trace[:,0], trace[:,1], color = 'k')\n",
        "    ax[i].set_ylabel('Voltage (mV)')\n",
        "    ax[i].set_xlabel('Time (ms)')"
      ]
    },
    {
      "cell_type": "markdown",
      "metadata": {
        "id": "WVMimIrUQqKE"
      },
      "source": [
        "We can also create two variables pointing to the experimental recordings for later use. As you can see, each trace is a 2D-array, with the first column representing the time points and the second column the voltage."
      ]
    },
    {
      "cell_type": "code",
      "execution_count": 2,
      "metadata": {
        "colab": {
          "base_uri": "https://localhost:8080/"
        },
        "id": "9-KE6bcOQqKF",
        "outputId": "dc014045-c918-415c-e5de-a59e023e1f6e"
      },
      "outputs": [
        {
          "output_type": "stream",
          "name": "stdout",
          "text": [
            "[[ 0.00000000e+00 -6.50644052e+01]\n",
            " [ 3.65780296e-02 -6.45500889e+01]\n",
            " [ 7.31560593e-02 -6.58116431e+01]\n",
            " ...\n",
            " [ 6.62454270e+02 -6.80285806e+01]\n",
            " [ 6.85217951e+02 -6.77730746e+01]\n",
            " [ 7.00000000e+02 -6.74465859e+01]]\n"
          ]
        }
      ],
      "source": [
        "exp_pos_trace = numpy.loadtxt(\"dep_trace.txt\")\n",
        "exp_neg_trace = numpy.loadtxt(\"hyp_trace.txt\")\n",
        "print(exp_pos_trace)"
      ]
    },
    {
      "cell_type": "markdown",
      "metadata": {
        "id": "iG5xw4N7QqKF"
      },
      "source": [
        "## Define the cell model\n",
        "\n",
        "In this first part, we will define the model **template**. It consists of:\n",
        "* The neuron **morphology** (the shape of the cell). It can be farly complicated, but in this example we are approximating it with a single compartment representing the soma of the cell.\n",
        "* The **ion channel** models (or mechanisms): they contain the equations describing the electrical properties of the cell. \n",
        "* The **model parameters**.\n",
        "\n",
        "BluePyOpt contains a module to create biophysically-detailed neuron models. Let's import it."
      ]
    },
    {
      "cell_type": "code",
      "source": [
        "!pip install bluepyopt"
      ],
      "metadata": {
        "colab": {
          "base_uri": "https://localhost:8080/"
        },
        "id": "ZXsIx7ysQ5Lg",
        "outputId": "565d5658-ad64-42ea-ed6d-2eb5c13e494b"
      },
      "execution_count": 4,
      "outputs": [
        {
          "output_type": "stream",
          "name": "stdout",
          "text": [
            "Looking in indexes: https://pypi.org/simple, https://us-python.pkg.dev/colab-wheels/public/simple/\n",
            "Collecting bluepyopt\n",
            "  Downloading bluepyopt-1.13.12-py3-none-any.whl (133 kB)\n",
            "\u001b[K     |████████████████████████████████| 133 kB 5.0 MB/s \n",
            "\u001b[?25hCollecting ipyparallel\n",
            "  Downloading ipyparallel-8.4.1-py3-none-any.whl (298 kB)\n",
            "\u001b[K     |████████████████████████████████| 298 kB 36.9 MB/s \n",
            "\u001b[?25hRequirement already satisfied: pickleshare>=0.7.3 in /usr/local/lib/python3.8/dist-packages (from bluepyopt) (0.7.5)\n",
            "Requirement already satisfied: pandas>=0.18 in /usr/local/lib/python3.8/dist-packages (from bluepyopt) (1.3.5)\n",
            "Collecting efel>=2.13\n",
            "  Downloading efel-4.1.47-cp38-cp38-manylinux_2_17_x86_64.manylinux2014_x86_64.whl (4.3 MB)\n",
            "\u001b[K     |████████████████████████████████| 4.3 MB 62.4 MB/s \n",
            "\u001b[?25hRequirement already satisfied: numpy>=1.6 in /usr/local/lib/python3.8/dist-packages (from bluepyopt) (1.21.6)\n",
            "Requirement already satisfied: Jinja2>=2.8 in /usr/local/lib/python3.8/dist-packages (from bluepyopt) (2.11.3)\n",
            "Requirement already satisfied: future in /usr/local/lib/python3.8/dist-packages (from bluepyopt) (0.16.0)\n",
            "Collecting deap>=1.3.3\n",
            "  Downloading deap-1.3.3-cp38-cp38-manylinux_2_5_x86_64.manylinux1_x86_64.manylinux_2_17_x86_64.manylinux2014_x86_64.whl (139 kB)\n",
            "\u001b[K     |████████████████████████████████| 139 kB 58.7 MB/s \n",
            "\u001b[?25hCollecting Pebble>=4.3.10\n",
            "  Downloading Pebble-5.0.3-py3-none-any.whl (30 kB)\n",
            "Requirement already satisfied: six in /usr/local/lib/python3.8/dist-packages (from efel>=2.13->bluepyopt) (1.15.0)\n",
            "Requirement already satisfied: MarkupSafe>=0.23 in /usr/local/lib/python3.8/dist-packages (from Jinja2>=2.8->bluepyopt) (2.0.1)\n",
            "Requirement already satisfied: pytz>=2017.3 in /usr/local/lib/python3.8/dist-packages (from pandas>=0.18->bluepyopt) (2022.6)\n",
            "Requirement already satisfied: python-dateutil>=2.7.3 in /usr/local/lib/python3.8/dist-packages (from pandas>=0.18->bluepyopt) (2.8.2)\n",
            "Requirement already satisfied: traitlets>=4.3 in /usr/local/lib/python3.8/dist-packages (from ipyparallel->bluepyopt) (5.6.0)\n",
            "Requirement already satisfied: psutil in /usr/local/lib/python3.8/dist-packages (from ipyparallel->bluepyopt) (5.4.8)\n",
            "Requirement already satisfied: entrypoints in /usr/local/lib/python3.8/dist-packages (from ipyparallel->bluepyopt) (0.4)\n",
            "Requirement already satisfied: tqdm in /usr/local/lib/python3.8/dist-packages (from ipyparallel->bluepyopt) (4.64.1)\n",
            "Requirement already satisfied: pyzmq>=18 in /usr/local/lib/python3.8/dist-packages (from ipyparallel->bluepyopt) (23.2.1)\n",
            "Requirement already satisfied: tornado>=5.1 in /usr/local/lib/python3.8/dist-packages (from ipyparallel->bluepyopt) (6.0.4)\n",
            "Requirement already satisfied: decorator in /usr/local/lib/python3.8/dist-packages (from ipyparallel->bluepyopt) (4.4.2)\n",
            "Requirement already satisfied: ipython>=4 in /usr/local/lib/python3.8/dist-packages (from ipyparallel->bluepyopt) (7.9.0)\n",
            "Requirement already satisfied: ipykernel>=4.4 in /usr/local/lib/python3.8/dist-packages (from ipyparallel->bluepyopt) (5.3.4)\n",
            "Requirement already satisfied: jupyter-client in /usr/local/lib/python3.8/dist-packages (from ipyparallel->bluepyopt) (6.1.12)\n",
            "Collecting jedi>=0.10\n",
            "  Downloading jedi-0.18.2-py2.py3-none-any.whl (1.6 MB)\n",
            "\u001b[K     |████████████████████████████████| 1.6 MB 58.8 MB/s \n",
            "\u001b[?25hRequirement already satisfied: setuptools>=18.5 in /usr/local/lib/python3.8/dist-packages (from ipython>=4->ipyparallel->bluepyopt) (57.4.0)\n",
            "Requirement already satisfied: pygments in /usr/local/lib/python3.8/dist-packages (from ipython>=4->ipyparallel->bluepyopt) (2.6.1)\n",
            "Requirement already satisfied: prompt-toolkit<2.1.0,>=2.0.0 in /usr/local/lib/python3.8/dist-packages (from ipython>=4->ipyparallel->bluepyopt) (2.0.10)\n",
            "Requirement already satisfied: backcall in /usr/local/lib/python3.8/dist-packages (from ipython>=4->ipyparallel->bluepyopt) (0.2.0)\n",
            "Requirement already satisfied: pexpect in /usr/local/lib/python3.8/dist-packages (from ipython>=4->ipyparallel->bluepyopt) (4.8.0)\n",
            "Requirement already satisfied: parso<0.9.0,>=0.8.0 in /usr/local/lib/python3.8/dist-packages (from jedi>=0.10->ipython>=4->ipyparallel->bluepyopt) (0.8.3)\n",
            "Requirement already satisfied: wcwidth in /usr/local/lib/python3.8/dist-packages (from prompt-toolkit<2.1.0,>=2.0.0->ipython>=4->ipyparallel->bluepyopt) (0.2.5)\n",
            "Requirement already satisfied: jupyter-core>=4.6.0 in /usr/local/lib/python3.8/dist-packages (from jupyter-client->ipyparallel->bluepyopt) (5.1.0)\n",
            "Requirement already satisfied: platformdirs>=2.5 in /usr/local/lib/python3.8/dist-packages (from jupyter-core>=4.6.0->jupyter-client->ipyparallel->bluepyopt) (2.5.4)\n",
            "Requirement already satisfied: ptyprocess>=0.5 in /usr/local/lib/python3.8/dist-packages (from pexpect->ipython>=4->ipyparallel->bluepyopt) (0.7.0)\n",
            "Installing collected packages: jedi, Pebble, ipyparallel, efel, deap, bluepyopt\n",
            "Successfully installed Pebble-5.0.3 bluepyopt-1.13.12 deap-1.3.3 efel-4.1.47 ipyparallel-8.4.1 jedi-0.18.2\n"
          ]
        }
      ]
    },
    {
      "cell_type": "code",
      "execution_count": 5,
      "metadata": {
        "id": "FW7ZqLhSQqKG"
      },
      "outputs": [],
      "source": [
        "import bluepyopt as bpopt\n",
        "import bluepyopt.ephys as ephys"
      ]
    },
    {
      "cell_type": "markdown",
      "metadata": {
        "id": "USLWMl_sQqKH"
      },
      "source": [
        "### Load a morphology"
      ]
    },
    {
      "cell_type": "markdown",
      "metadata": {
        "id": "0G1ma2fiQqKH"
      },
      "source": [
        "Reconstruction of neuron morphologies can be stored in different file formats ([.swc](http://www.neuronland.org/NLMorphologyConverter/MorphologyFormats/SWC/Spec.html), .asc). We're now going to load a .swc morphology and visualise it by using the Neuronal Morphology Analysis Tool [NeuroM](https://github.com/BlueBrain/NeuroM). In this example the morphology represents a soma with a radius of 5 micron."
      ]
    },
    {
      "cell_type": "code",
      "source": [
        "! pip install neurom"
      ],
      "metadata": {
        "colab": {
          "base_uri": "https://localhost:8080/"
        },
        "id": "LVm6Mb5IRBTp",
        "outputId": "179cba72-e028-4458-a9b1-60fd8d4f6f36"
      },
      "execution_count": 7,
      "outputs": [
        {
          "output_type": "stream",
          "name": "stdout",
          "text": [
            "Looking in indexes: https://pypi.org/simple, https://us-python.pkg.dev/colab-wheels/public/simple/\n",
            "Collecting neurom\n",
            "  Downloading neurom-3.2.2.tar.gz (489 kB)\n",
            "\u001b[K     |████████████████████████████████| 489 kB 5.2 MB/s \n",
            "\u001b[?25h  Installing build dependencies ... \u001b[?25l\u001b[?25hdone\n",
            "  Getting requirements to build wheel ... \u001b[?25l\u001b[?25hdone\n",
            "  Installing backend dependencies ... \u001b[?25l\u001b[?25hdone\n",
            "    Preparing wheel metadata ... \u001b[?25l\u001b[?25hdone\n",
            "Requirement already satisfied: matplotlib>=3.2.1 in /usr/local/lib/python3.8/dist-packages (from neurom) (3.2.2)\n",
            "Collecting morphio>=3.1.1\n",
            "  Downloading MorphIO-3.3.3-cp38-cp38-manylinux_2_17_x86_64.manylinux2014_x86_64.whl (1.9 MB)\n",
            "\u001b[K     |████████████████████████████████| 1.9 MB 48.7 MB/s \n",
            "\u001b[?25hRequirement already satisfied: pandas>=1.0.5 in /usr/local/lib/python3.8/dist-packages (from neurom) (1.3.5)\n",
            "Requirement already satisfied: numpy>=1.8.0 in /usr/local/lib/python3.8/dist-packages (from neurom) (1.21.6)\n",
            "Requirement already satisfied: tqdm>=4.8.4 in /usr/local/lib/python3.8/dist-packages (from neurom) (4.64.1)\n",
            "Requirement already satisfied: pyyaml>=3.10 in /usr/local/lib/python3.8/dist-packages (from neurom) (6.0)\n",
            "Requirement already satisfied: click>=7.0 in /usr/local/lib/python3.8/dist-packages (from neurom) (7.1.2)\n",
            "Requirement already satisfied: scipy>=1.2.0 in /usr/local/lib/python3.8/dist-packages (from neurom) (1.7.3)\n",
            "Requirement already satisfied: kiwisolver>=1.0.1 in /usr/local/lib/python3.8/dist-packages (from matplotlib>=3.2.1->neurom) (1.4.4)\n",
            "Requirement already satisfied: pyparsing!=2.0.4,!=2.1.2,!=2.1.6,>=2.0.1 in /usr/local/lib/python3.8/dist-packages (from matplotlib>=3.2.1->neurom) (3.0.9)\n",
            "Requirement already satisfied: cycler>=0.10 in /usr/local/lib/python3.8/dist-packages (from matplotlib>=3.2.1->neurom) (0.11.0)\n",
            "Requirement already satisfied: python-dateutil>=2.1 in /usr/local/lib/python3.8/dist-packages (from matplotlib>=3.2.1->neurom) (2.8.2)\n",
            "Requirement already satisfied: pytz>=2017.3 in /usr/local/lib/python3.8/dist-packages (from pandas>=1.0.5->neurom) (2022.6)\n",
            "Requirement already satisfied: six>=1.5 in /usr/local/lib/python3.8/dist-packages (from python-dateutil>=2.1->matplotlib>=3.2.1->neurom) (1.15.0)\n",
            "Building wheels for collected packages: neurom\n",
            "  Building wheel for neurom (PEP 517) ... \u001b[?25l\u001b[?25hdone\n",
            "  Created wheel for neurom: filename=neurom-3.2.2-py3-none-any.whl size=105792 sha256=33676e7f6af8b4c1c60ce3f165bdbb92d1e27c04caf4c192da2256ec906d0623\n",
            "  Stored in directory: /root/.cache/pip/wheels/2a/ab/45/d2198929cfe3f08cfc388dac0e5be76ed66e9d6e7954dc933d\n",
            "Successfully built neurom\n",
            "Installing collected packages: morphio, neurom\n",
            "Successfully installed morphio-3.3.3 neurom-3.2.2\n"
          ]
        }
      ]
    },
    {
      "cell_type": "code",
      "execution_count": 8,
      "metadata": {
        "colab": {
          "base_uri": "https://localhost:8080/",
          "height": 355
        },
        "id": "v1LyQlLqQqKI",
        "outputId": "e126d202-85d4-4ef9-9f94-67b95d740ea6"
      },
      "outputs": [
        {
          "output_type": "stream",
          "name": "stderr",
          "text": [
            "<ipython-input-8-17a9d1712b7e>:13: NeuroMDeprecationWarning: `neurom.io.utils.load_neuron` is deprecated in favor of `neurom.io.utils.load_morphology`\n",
            "  fig, ax = neurom.viewer.draw(neurom.load_neuron('simple.swc'))\n"
          ]
        },
        {
          "output_type": "display_data",
          "data": {
            "text/plain": [
              "<Figure size 432x288 with 1 Axes>"
            ],
            "image/png": "[encoded data removed]"
          },
          "metadata": {
            "needs_background": "light"
          }
        }
      ],
      "source": [
        "import neurom\n",
        "import neurom.viewer\n",
        "\n",
        "# Get the morpholoy file\n",
        "response = urlopen('https://bbpteam.epfl.ch/public/mooc-hbp/simple.swc')\n",
        "data = response.read()\n",
        "\n",
        "# Save the morphology file   \n",
        "with open(\"simple.swc\", \"wb\") as f:\n",
        "    f.write(data)\n",
        "    \n",
        "# Visualise the morphology\n",
        "fig, ax = neurom.viewer.draw(neurom.load_neuron('simple.swc'))\n",
        "\n",
        "# Load the morphology in BluePyOpt\n",
        "morph = ephys.morphologies.NrnFileMorphology('simple.swc')\n"
      ]
    },
    {
      "cell_type": "markdown",
      "metadata": {
        "id": "DFoGltIbQqKJ"
      },
      "source": [
        "### Add ion channels\n",
        "\n",
        "In this example we will use the [**Hodgkin-Huxley** (HH) model](https://en.wikipedia.org/wiki/Hodgkin–Huxley_model) to insert sodium (Na), potassium (K) and leak ionic currents in the cell soma. \n",
        "\n",
        "We will use the built-in HH mechanism of the [NEURON](https://www.neuron.yale.edu/neuron/) simulator. NEURON can be easily extended with other mechanisms (.mod files) by using the [NMODL](https://www.neuron.yale.edu/neuron/static/new_doc/modelspec/programmatic/mechanisms/nmodl.html) language. In this way we can model other types of ion channels, synapses, extracellular mechanisms... \n",
        "\n",
        "To insert a NEURON mechanim into BluePyOpt we need to assign it a **name**, specify the **suffix** pointing to the same field in the .mod file and in which **locations** of the morphology we want to insert it."
      ]
    },
    {
      "cell_type": "code",
      "execution_count": 9,
      "metadata": {
        "id": "Nw_fxM8jQqKJ"
      },
      "outputs": [],
      "source": [
        "# Create a section object pointing to the soma\n",
        "somatic_loc = ephys.locations.NrnSeclistLocation('somatic', seclist_name='somatic')\n",
        "\n",
        "# Insert the HH mechanism in the soma\n",
        "hh_mech = ephys.mechanisms.NrnMODMechanism(                                         \n",
        "        name='hh',                                                                  \n",
        "        suffix='hh',                                                                \n",
        "        locations=[somatic_loc])"
      ]
    },
    {
      "cell_type": "markdown",
      "metadata": {
        "id": "hkU8olbZQqKK"
      },
      "source": [
        "### Specify the parameters\n",
        "We can now specify the parameters of our model. Parameters can be distinguished in two types: **frozen** parameters (i.e. they have an exact value and they are not going to be searched by the optimisation algorithm), **free** parameters (i.e. they have initial bounds for their value and they are going to be searched). \n",
        "\n",
        "In a typical biophysically-detailed model the free parameters can be the **maximal conductances** of the ionic currents ($\\overline{g}_{ion}$). These parameters are part of the HH equations governing the membrane potential of our neuron soma:\n",
        "\n",
        "$$C_{m}\\frac{dV}{dt} = I_{l} + I_{Na} + I_{K} $$\n",
        "\n",
        "$$C_{m}\\frac{dV}{dt} = \\overline{g}_{l}(V-E_{l}) + \\overline{g}_{Na}m^{3}h(V-E_{Na}) + \\overline{g}_{K}n^{4}(V-E_{K}) $$\n",
        "\n",
        "We are now going to set the sodium (*gna_par*) and potassium (*gk_par*) conductance as free parameters and the leak conductance (*gl_par*) and the membrane capacitance (*Cm*) as frozen."
      ]
    },
    {
      "cell_type": "code",
      "execution_count": 10,
      "metadata": {
        "id": "eJiRFOe3QqKK"
      },
      "outputs": [],
      "source": [
        "# Sodium conductance\n",
        "gna_par = ephys.parameters.NrnSectionParameter(                                    \n",
        "        name='gna_soma',\n",
        "        param_name='gnabar_hh',\n",
        "        locations=[somatic_loc],\n",
        "        bounds=[0, 1], # S/cm^2\n",
        "        frozen=False) \n",
        "\n",
        "# Potassium conductance\n",
        "gk_par = ephys.parameters.NrnSectionParameter(\n",
        "        name='gk_soma',\n",
        "        param_name='gkbar_hh',\n",
        "        bounds=[0, 1], # S/cm^2\n",
        "        locations=[somatic_loc],\n",
        "        frozen=False)\n",
        "\n",
        "# Leak conductance\n",
        "gl_par = ephys.parameters.NrnSectionParameter(\n",
        "        name='gl_soma',\n",
        "        param_name='gl_hh',\n",
        "        value=0.0003, # S/cm^2\n",
        "        locations=[somatic_loc],\n",
        "        frozen=True)\n",
        "\n",
        "# Membrane capacitance\n",
        "cm = ephys.parameters.NrnSectionParameter(\n",
        "        name='cm',\n",
        "        param_name='cm',\n",
        "        value=1.0, # in microfarad/cm2\n",
        "        locations=[somatic_loc],\n",
        "        frozen=True)"
      ]
    },
    {
      "cell_type": "markdown",
      "metadata": {
        "id": "Xd7hEUilQqKL"
      },
      "source": [
        "### Create the cell model\n",
        "We can now create the cell model, by combining the morphology, the mechanisms and the parameters."
      ]
    },
    {
      "cell_type": "code",
      "execution_count": 11,
      "metadata": {
        "id": "lLzE5tz9QqKL"
      },
      "outputs": [],
      "source": [
        "simple_cell = ephys.models.CellModel(\n",
        "        name='simple_cell',\n",
        "        morph=morph,\n",
        "        mechs=[hh_mech],\n",
        "        params=[gna_par, gk_par, gl_par, cm])"
      ]
    },
    {
      "cell_type": "markdown",
      "metadata": {
        "id": "s5JbAk2MQqKL"
      },
      "source": [
        "We can print a descrition of the neuron."
      ]
    },
    {
      "cell_type": "code",
      "execution_count": 12,
      "metadata": {
        "colab": {
          "base_uri": "https://localhost:8080/"
        },
        "id": "ka7yjkdhQqKL",
        "outputId": "cd8826cf-805f-41f3-ddd7-21544ff83926"
      },
      "outputs": [
        {
          "output_type": "stream",
          "name": "stdout",
          "text": [
            "simple_cell:\n",
            "  morphology:\n",
            "    simple.swc\n",
            "  mechanisms:\n",
            "    hh: hh at ['somatic']\n",
            "  params:\n",
            "    gna_soma: ['somatic'] gnabar_hh = [0, 1]\n",
            "    gk_soma: ['somatic'] gkbar_hh = [0, 1]\n",
            "    gl_soma: ['somatic'] gl_hh = 0.0003\n",
            "    cm: ['somatic'] cm = 1.0\n",
            "\n"
          ]
        }
      ],
      "source": [
        "print(simple_cell)"
      ]
    },
    {
      "cell_type": "markdown",
      "metadata": {
        "id": "G4XrA_IBQqKM"
      },
      "source": [
        "## Set-up a cell evaluator\n",
        "\n",
        "A cell **evaluator** is an object that maps the model parameters into fitness scores, which measure how well our model approximates the experimental data.\n",
        "To define a cell evaluator we need:\n",
        "* current **protocols** to stimulate the cell \n",
        "* a **simulation** to record the voltage **response**\n",
        "* **eFeatures** and **objectives**: they are extracted from the responses and used to score our model, by comparing it with the experimental data.\n",
        "\n",
        "### Define protocols\n",
        "\n",
        "Protocols consist of a sequence of stimuli and the associated responses. \n",
        "\n",
        "We first need to create a location to inject the stimuli, for example the center of the soma."
      ]
    },
    {
      "cell_type": "code",
      "execution_count": 13,
      "metadata": {
        "id": "aB_tfEwZQqKM"
      },
      "outputs": [],
      "source": [
        "soma_loc = ephys.locations.NrnSeclistCompLocation(\n",
        "        name='soma',\n",
        "        seclist_name='somatic',\n",
        "        sec_index=0,\n",
        "        comp_x=0.5)"
      ]
    },
    {
      "cell_type": "markdown",
      "metadata": {
        "id": "LL67y1_uQqKN"
      },
      "source": [
        "Then we can define the stimuli, recordings and combine them in the protocol (a BluePyOpt [SequenceProtocol](https://github.com/BlueBrain/BluePyOpt/blob/master/bluepyopt/ephys/protocols.py#L48) object). We are going to create two stimuli (a negative and a positive current step) and record the responses. For each stimulus we specify the amplitude (in nA), the starting time (step_delay), its duration and the total duration of the simulation in ms. "
      ]
    },
    {
      "cell_type": "code",
      "execution_count": 14,
      "metadata": {
        "id": "2UIGiJkZQqKN"
      },
      "outputs": [],
      "source": [
        "sweep_protocols = []\n",
        "\n",
        "for protocol_name, amp, dur in [('neg_step', -0.01, 3000), ('pos_step', 0.015, 200)]:\n",
        "    \n",
        "    stim = ephys.stimuli.NrnSquarePulse(\n",
        "                step_amplitude=amp,\n",
        "                step_delay=250,\n",
        "                step_duration=dur,\n",
        "                location=soma_loc,\n",
        "                total_duration=500+dur)\n",
        "    \n",
        "    rec = ephys.recordings.CompRecording(\n",
        "            name='%s.soma.v' % protocol_name,\n",
        "            location=soma_loc,\n",
        "            variable='v')\n",
        "    \n",
        "    protocol = ephys.protocols.SweepProtocol(protocol_name, [stim], [rec])\n",
        "    sweep_protocols.append(protocol)\n",
        "\n",
        "twostep_protocol = ephys.protocols.SequenceProtocol('twostep', protocols=sweep_protocols)"
      ]
    },
    {
      "cell_type": "markdown",
      "metadata": {
        "id": "nXsBZuj0QqKN"
      },
      "source": [
        "### Running a simulation, record and plot the responses\n",
        "\n",
        "We can now run a simulation on our cell model. We just need to instantiate the simulator (an abstraction of the NEURON simulator). To run the simulation, we can use the run() function of the protocol we have just created. The run function takes as arguments a cell model, values for the free parameters and a simulator."
      ]
    },
    {
      "cell_type": "code",
      "source": [
        "!pip install neuron\n",
        "import neuron"
      ],
      "metadata": {
        "colab": {
          "base_uri": "https://localhost:8080/"
        },
        "id": "ZUqfznbYRUO_",
        "outputId": "21ee8e55-be94-490b-bdaa-05960bbcc9c1"
      },
      "execution_count": 17,
      "outputs": [
        {
          "output_type": "stream",
          "name": "stdout",
          "text": [
            "Looking in indexes: https://pypi.org/simple, https://us-python.pkg.dev/colab-wheels/public/simple/\n",
            "Collecting neuron\n",
            "  Downloading NEURON-8.2.1-cp38-cp38-manylinux_2_17_x86_64.manylinux2014_x86_64.whl (15.2 MB)\n",
            "\u001b[K     |████████████████████████████████| 15.2 MB 4.8 MB/s \n",
            "\u001b[?25hRequirement already satisfied: numpy>=1.9.3 in /usr/local/lib/python3.8/dist-packages (from neuron) (1.21.6)\n",
            "Installing collected packages: neuron\n",
            "Successfully installed neuron-8.2.1\n"
          ]
        }
      ]
    },
    {
      "cell_type": "code",
      "execution_count": 18,
      "metadata": {
        "id": "iifzTBiyQqKN"
      },
      "outputs": [],
      "source": [
        "# Instantiate the simulator\n",
        "nrn = ephys.simulators.NrnSimulator()\n",
        "\n",
        "# Set values for the free parameters (they have to be within bounds)\n",
        "default_params = {'gna_soma': 0.07, 'gk_soma': 0.03}\n",
        "\n",
        "# Run the simulation\n",
        "responses = twostep_protocol.run(cell_model=simple_cell, param_values=default_params, sim=nrn)\n"
      ]
    },
    {
      "cell_type": "markdown",
      "metadata": {
        "id": "M1m3tQk8QqKO"
      },
      "source": [
        "We can plot the model responses side by side with the experimental recordings."
      ]
    },
    {
      "cell_type": "code",
      "execution_count": 19,
      "metadata": {
        "colab": {
          "base_uri": "https://localhost:8080/",
          "height": 297
        },
        "id": "OEBnNtIqQqKO",
        "outputId": "a02a62da-fb60-418d-db6d-f09903725935"
      },
      "outputs": [
        {
          "output_type": "display_data",
          "data": {
            "text/plain": [
              "<Figure size 432x288 with 4 Axes>"
            ],
            "image/png": "[encoded data removed]"
          },
          "metadata": {
            "needs_background": "light"
          }
        }
      ],
      "source": [
        "def plot_responses(responses):\n",
        "    fig1, ax = plt.subplots(len(responses), 2, sharey = True, sharex = 'row')\n",
        "    \n",
        "    ax[0,0].plot(exp_neg_trace[:, 0], exp_neg_trace[:,1], color = 'k')            \n",
        "    ax[0,1].plot(responses['neg_step.soma.v']['time'], responses['neg_step.soma.v']['voltage'])\n",
        "    ax[0,0].set_title(\"Experiment\")\n",
        "    ax[0,1].set_title(\"Model\")\n",
        "    ax[1,0].plot(exp_pos_trace[:, 0], exp_pos_trace[:,1], color = 'k')            \n",
        "    ax[1,1].plot(responses['pos_step.soma.v']['time'], responses['pos_step.soma.v']['voltage'])\n",
        "\n",
        "    \n",
        "    fig1.tight_layout()\n",
        "\n",
        "plot_responses(responses)"
      ]
    },
    {
      "cell_type": "markdown",
      "metadata": {
        "id": "6UOtE80WQqKO"
      },
      "source": [
        "If we change the model parameters, for example big making the sodium conductance bigger, the model behaves differently."
      ]
    },
    {
      "cell_type": "code",
      "execution_count": 20,
      "metadata": {
        "colab": {
          "base_uri": "https://localhost:8080/",
          "height": 297
        },
        "id": "8W3BTVBqQqKP",
        "outputId": "7658bd31-73de-448d-d2d8-c78d1f8831cc"
      },
      "outputs": [
        {
          "output_type": "display_data",
          "data": {
            "text/plain": [
              "<Figure size 432x288 with 4 Axes>"
            ],
            "image/png": "[encoded data removed]"
          },
          "metadata": {
            "needs_background": "light"
          }
        }
      ],
      "source": [
        "# Set values for the free parameters\n",
        "default_params = {'gna_soma': 0.15, 'gk_soma': 0.03}\n",
        "\n",
        "# Run the simulation\n",
        "responses = twostep_protocol.run(cell_model=simple_cell, param_values=default_params, sim=nrn)\n",
        "\n",
        "# Run the simulation and plot the responses\n",
        "plot_responses(responses)"
      ]
    },
    {
      "cell_type": "markdown",
      "metadata": {
        "id": "qnSOujQ4QqKP"
      },
      "source": [
        "We can observe that after changing the parameters our model starts to approximate the number of spikes in response to the positive current injection, but we also obtained an undesired spike at the end of the negative injection."
      ]
    },
    {
      "cell_type": "markdown",
      "metadata": {
        "id": "jDiBF9qiQqKP"
      },
      "source": [
        "### Define eFeatures and objectives"
      ]
    },
    {
      "cell_type": "markdown",
      "metadata": {
        "id": "jmhC8KTBQqKP"
      },
      "source": [
        "We can now use the experimental data to constrain the model parameters. For example we can use number of spikes in the response to the two steps as the optimisation targets.\n",
        "\n",
        "We can use the eFeature Extraction Library ([eFEL](https://github.com/BlueBrain/eFEL)) to extract some electrical features (eFeatures) from experimental and model traces. eFeatures are metrics that define for instance the shape of the action potential or the passive properties of a neuron (for examples, see [here](http://bluebrain.github.io/eFEL/eFeatures.html)).\n",
        "\n",
        "We can now extract the number of spikes from one of the experimental recordings. To extract features with eFEL we need to define the traces we want to analyse as Python dictionaries, containing the time array **T**, the voltage **V**, the **stimulus start** and **end time** (they have to be Python lists) and the **name of the features** we want to extract."
      ]
    },
    {
      "cell_type": "code",
      "execution_count": 21,
      "metadata": {
        "colab": {
          "base_uri": "https://localhost:8080/"
        },
        "id": "pnZhGuX5QqKP",
        "outputId": "f4139e53-55ff-4bfd-d31c-868f5869db8d"
      },
      "outputs": [
        {
          "output_type": "stream",
          "name": "stdout",
          "text": [
            "Number of spikes in the experimental trace: [10]\n"
          ]
        }
      ],
      "source": [
        "import efel\n",
        "\n",
        "# Get the time and voltage array from the experimental data\n",
        "time = exp_pos_trace[:,0]\n",
        "voltage = exp_pos_trace[:,1]\n",
        "\n",
        "# Define the trace dictionary for efel\n",
        "trace = {'T': time, 'V': voltage, 'stim_start': [250], 'stim_end': [450]}\n",
        "\n",
        "# Extract features\n",
        "feature_values = efel.getFeatureValues([trace], ['Spikecount'])[0]\n",
        "\n",
        "print(f\"Number of spikes in the experimental trace: {feature_values['Spikecount']}\")"
      ]
    },
    {
      "cell_type": "markdown",
      "metadata": {
        "id": "GasK_Ml2QqKQ"
      },
      "source": [
        "We can now use these experimental eFeatures to calculate the fitness of our model. Each eFeature (or a combination of them) can be set as an optimisation target.\n",
        "\n",
        "In the code below we associate an eFeature to each voltage response and create the eFELFeature and Objective objects.\n",
        "\n",
        "The eFELFeture ojects takes as arguments the name of the feature in the eFEL, the name of the recordings containg the traces to evaluate, the start and end time of the stimulus and the experimental **feature mean** and **standard deviation** (std). \n",
        "In this example we use the feature means extracted from the experimental traces (and stored in the *feat_means* dictionary) and *0.05abs(mean)* as standard deviation."
      ]
    },
    {
      "cell_type": "code",
      "execution_count": 22,
      "metadata": {
        "id": "xpHuopS9QqKQ"
      },
      "outputs": [],
      "source": [
        "feat_means = {'neg_step': {'Spikecount': 0}, 'pos_step': {'Spikecount': 10}}\n",
        "\n",
        "features = []\n",
        "objectives = []\n",
        "\n",
        "for protocol in sweep_protocols:   \n",
        "    stim_start = protocol.stimuli[0].step_delay\n",
        "    stim_end = stim_start + protocol.stimuli[0].step_duration\n",
        "\n",
        "    for efel_feature_name, mean in feat_means[protocol.name].items():\n",
        "        feature_name = '%s.%s' % (protocol.name, efel_feature_name)\n",
        "        \n",
        "        feature = ephys.efeatures.eFELFeature(\n",
        "                    feature_name,\n",
        "                    efel_feature_name=efel_feature_name,\n",
        "                    recording_names={'': '%s.soma.v' % protocol.name},\n",
        "                    stim_start=stim_start,\n",
        "                    stim_end=stim_end,\n",
        "                    exp_mean=mean,\n",
        "                    exp_std=0.05 * abs(mean) if mean != 0 else 1)\n",
        "        \n",
        "        features.append(feature)\n",
        "        objective = ephys.objectives.SingletonObjective(\n",
        "            feature_name,\n",
        "            feature)\n",
        "        objectives.append(objective)\n"
      ]
    },
    {
      "cell_type": "markdown",
      "metadata": {
        "id": "jx3G8_sAQqKQ"
      },
      "source": [
        "Now that we have defined the objectives, we need to use them to score the model responses by creating a score (or fitness) calculator object."
      ]
    },
    {
      "cell_type": "code",
      "execution_count": 23,
      "metadata": {
        "id": "RXv3TjooQqKR"
      },
      "outputs": [],
      "source": [
        "score_calc = ephys.objectivescalculators.ObjectivesCalculator(objectives)"
      ]
    },
    {
      "cell_type": "markdown",
      "metadata": {
        "id": "3iEGX-XvQqKR"
      },
      "source": [
        "We can now define our cell evaluator by combining the cell model, the protocol and the score calculator. We also need to specify a ordered list of the names of the free parameters."
      ]
    },
    {
      "cell_type": "code",
      "execution_count": 24,
      "metadata": {
        "id": "2lGdNRFqQqKR"
      },
      "outputs": [],
      "source": [
        "cell_evaluator = ephys.evaluators.CellEvaluator(\n",
        "        cell_model = simple_cell,\n",
        "        param_names = ['gna_soma', 'gk_soma'],\n",
        "        fitness_protocols = {twostep_protocol.name: twostep_protocol},\n",
        "        fitness_calculator = score_calc,\n",
        "        sim = nrn)"
      ]
    },
    {
      "cell_type": "markdown",
      "metadata": {
        "id": "FXhoQ1yJQqKR"
      },
      "source": [
        "Now we can ask the evaluator to calculate the scores for a set of parameters. (The lower the score the better the model).\n",
        "The score for each feature is calculated according to the formula:\n",
        "\n",
        "$$ score_{feat} = \\frac{|mean_{exp}-feat_{model}|}{std_{exp}}$$\n",
        "\n",
        "We can now the default_params set. From the responses above, we see that there is a spike during the negative stimulus. In response to the positive stimulus, our model fires more than 10 spikes. Thus, none of the two scores will be perfect (= 0)."
      ]
    },
    {
      "cell_type": "code",
      "execution_count": 25,
      "metadata": {
        "colab": {
          "base_uri": "https://localhost:8080/"
        },
        "id": "JrmZxOnNQqKS",
        "outputId": "9e1c2a2a-2689-4274-80aa-c3ba53f28fb9"
      },
      "outputs": [
        {
          "output_type": "stream",
          "name": "stdout",
          "text": [
            "Scores:\n",
            "{'neg_step.Spikecount': 1.0, 'pos_step.Spikecount': 8.0}\n"
          ]
        }
      ],
      "source": [
        "objectives = cell_evaluator.evaluate_with_dicts(default_params)\n",
        "print(\"Scores:\")\n",
        "print(objectives)"
      ]
    },
    {
      "cell_type": "markdown",
      "metadata": {
        "id": "2PvJ3vv1QqKS"
      },
      "source": [
        "We can also plot scores as error bars."
      ]
    },
    {
      "cell_type": "code",
      "execution_count": 26,
      "metadata": {
        "colab": {
          "base_uri": "https://localhost:8080/",
          "height": 189
        },
        "id": "sGNV0k_qQqKS",
        "outputId": "2b4c00b3-d82e-4822-d8e6-79807d5eb081"
      },
      "outputs": [
        {
          "output_type": "display_data",
          "data": {
            "text/plain": [
              "<Figure size 432x180 with 1 Axes>"
            ],
            "image/png": "[encoded data removed]"
          },
          "metadata": {
            "needs_background": "light"
          }
        }
      ],
      "source": [
        "def plot_objectives(objectives):\n",
        "    ytick_pos = [x + 0.5 for x in range(len(objectives))]\n",
        "    obj_val = objectives.values()\n",
        "    obj_keys = objectives.keys()\n",
        "    fig, ax = plt.subplots(figsize = (6,2.5))\n",
        "    ax.barh(ytick_pos,\n",
        "              obj_val,\n",
        "              height=0.5,\n",
        "              align='center',\n",
        "              color='blue',\n",
        "              alpha=0.5)\n",
        "    ax.axvline(3, color = \"gray\", ls = \"--\")\n",
        "    ax.set_yticks(ytick_pos)\n",
        "    ax.set_ylabel(\"Score name\")\n",
        "    ax.set_xlabel(\"Score value (# STD)\")\n",
        "    ax.set_yticklabels(obj_keys)\n",
        "    fig.tight_layout()\n",
        "plot_objectives(objectives)  "
      ]
    },
    {
      "cell_type": "markdown",
      "metadata": {
        "id": "HT--W2vuQqKS"
      },
      "source": [
        "# Set up and run an optimisation\n",
        "\n",
        "As we have seen above, finding parameter values that match the experimental features may not be trivial.\n",
        "Let's now use the BluePyOpt parameter optimisation algorithm to find a set of parameter values that generates a perfect score of 0 on the 'pos_step' trace.\n",
        "\n",
        "BluePyOpt uses an [evolutionary algorithm](https://en.wikipedia.org/wiki/Evolutionary_algorithm) to generate parameter sets (or individual) with increasing fitness. At each iteration (generation) a set of parents from the previous generation is selected to generate an offspring. \n",
        "\n",
        "Let us specify that we want to have an offspring size of 15 **individuals**. This means every population will have 30 individuals (15 parents, 15 offspring)."
      ]
    },
    {
      "cell_type": "code",
      "execution_count": 27,
      "metadata": {
        "id": "qARMWUttQqKT"
      },
      "outputs": [],
      "source": [
        "optimisation = bpopt.deapext.optimisations.IBEADEAPOptimisation(                              \n",
        "        evaluator=cell_evaluator,                                                \n",
        "        offspring_size = 10)    "
      ]
    },
    {
      "cell_type": "markdown",
      "metadata": {
        "id": "--RWdJZHQqKT"
      },
      "source": [
        "Now the optimisation algorithm can be run for a certain **number of generations**.\n",
        "\n",
        "**Executing the next cell will take some time (a couple of minutes). There will be a ['*'] shown next to line while it is running.**"
      ]
    },
    {
      "cell_type": "code",
      "execution_count": 28,
      "metadata": {
        "scrolled": true,
        "id": "oPQTvoORQqKT"
      },
      "outputs": [],
      "source": [
        "final_pop, hall_of_fame, logs, hist = optimisation.run(max_ngen=13)"
      ]
    },
    {
      "cell_type": "markdown",
      "metadata": {
        "id": "b6x3ll2ZQqKT"
      },
      "source": [
        "## Optimisation results"
      ]
    },
    {
      "cell_type": "markdown",
      "metadata": {
        "id": "fQ824wC4QqKU"
      },
      "source": [
        "The optimisation has return us 4 objects: final population of parameter sets, hall of fame (the ten best individuals), statistical logs and history.\n",
        "\n",
        "After running an optimisation, we can inspect the hall of fame and other individuals from the history. In our case it contains values for the parameter *gna_soma* and *gk_soma*."
      ]
    },
    {
      "cell_type": "code",
      "execution_count": 29,
      "metadata": {
        "colab": {
          "base_uri": "https://localhost:8080/",
          "height": 297
        },
        "id": "6L2I6BzIQqKU",
        "outputId": "7bb29c8b-1149-47ef-c763-e85c38064cfb"
      },
      "outputs": [
        {
          "output_type": "display_data",
          "data": {
            "text/plain": [
              "<Figure size 360x288 with 4 Axes>"
            ],
            "image/png": "[encoded data removed]"
          },
          "metadata": {
            "needs_background": "light"
          }
        }
      ],
      "source": [
        "fig, axs = plt.subplots(1,2, figsize = (5,4))\n",
        "      \n",
        "ax0 = axs[0].twinx()\n",
        "ax0.set_ylabel(\"gk_soma (S/cm$^2$)\")\n",
        "for param_set in hall_of_fame:\n",
        "    axs[0].plot(0, param_set[0], \"o\") \n",
        "    axs[0].set_ylabel(\"gna_soma (S/cm$^2$)\")\n",
        "    ax0.plot(1, param_set[1], \"o\")\n",
        "    axs[0].set_title(\"Best individuals\")\n",
        "\n",
        "ax1 = axs[1].twinx()\n",
        "axs[1].set_ylabel(\"gna_soma (S/cm$^2$)\")\n",
        "ax1.set_ylabel(\"gk_soma (S/cm$^2$)\")\n",
        "for param_set in list(hist.genealogy_history.values())[:100]:\n",
        "        axs[1].plot(0,param_set[0], \"o\", color = \"gray\")\n",
        "        ax1.plot(1,param_set[1], \"o\", color = \"gray\")\n",
        "        axs[1].set_title(\"Other individuals\")\n",
        "      \n",
        "for ax in axs:\n",
        "    ax.set_xlim([-1,2])\n",
        "    ax.set_xticks([])\n",
        "    \n",
        "    \n",
        "fig.tight_layout()"
      ]
    },
    {
      "cell_type": "markdown",
      "metadata": {
        "id": "gH4yHJ7bQqKU"
      },
      "source": [
        "The best individual found during the optimisation is the first individual of the hall of fame."
      ]
    },
    {
      "cell_type": "code",
      "execution_count": 30,
      "metadata": {
        "colab": {
          "base_uri": "https://localhost:8080/"
        },
        "id": "X7e6bbdnQqKU",
        "outputId": "5da2101f-a1ce-477d-fb3d-549231dcbdf4"
      },
      "outputs": [
        {
          "output_type": "stream",
          "name": "stdout",
          "text": [
            "Best individual: [0.7208269195525907, 0.13947171574556189]\n"
          ]
        }
      ],
      "source": [
        "best_ind = hall_of_fame[0]\n",
        "\n",
        "print(f'Best individual: {best_ind}' )"
      ]
    },
    {
      "cell_type": "markdown",
      "metadata": {
        "id": "gowwLF8VQqKV"
      },
      "source": [
        "We can make use of a convenience function of the cell evaluator to return us a dictionary of parameters."
      ]
    },
    {
      "cell_type": "code",
      "execution_count": 31,
      "metadata": {
        "colab": {
          "base_uri": "https://localhost:8080/"
        },
        "id": "LugrKRuuQqKV",
        "outputId": "4778304f-507e-4574-e5c8-22f17120888f"
      },
      "outputs": [
        {
          "output_type": "stream",
          "name": "stdout",
          "text": [
            "{'gna_soma': 0.7208269195525907, 'gk_soma': 0.13947171574556189}\n"
          ]
        }
      ],
      "source": [
        "best_ind_dict = cell_evaluator.param_dict(best_ind)\n",
        "print(best_ind_dict)"
      ]
    },
    {
      "cell_type": "markdown",
      "metadata": {
        "id": "rJwGc5jFQqKV"
      },
      "source": [
        "We can now use this dictionary of parameters to run a simulation and give scores to the model, as we did previously."
      ]
    },
    {
      "cell_type": "code",
      "execution_count": 32,
      "metadata": {
        "colab": {
          "base_uri": "https://localhost:8080/",
          "height": 486
        },
        "id": "xgEVvu2pQqKV",
        "outputId": "035d4503-2e4d-47aa-976b-22a03006be0b"
      },
      "outputs": [
        {
          "output_type": "stream",
          "name": "stdout",
          "text": [
            "Score: {objectives}\n"
          ]
        },
        {
          "output_type": "display_data",
          "data": {
            "text/plain": [
              "<Figure size 432x288 with 4 Axes>"
            ],
            "image/png": "[encoded data removed]"
          },
          "metadata": {
            "needs_background": "light"
          }
        },
        {
          "output_type": "display_data",
          "data": {
            "text/plain": [
              "<Figure size 432x180 with 1 Axes>"
            ],
            "image/png": "[encoded data removed]"
          },
          "metadata": {
            "needs_background": "light"
          }
        }
      ],
      "source": [
        "responses = twostep_protocol.run(cell_model=simple_cell, param_values=best_ind_dict, sim=nrn)\n",
        "plot_responses(responses)\n",
        "\n",
        "objectives = score_calc.calculate_scores(responses)\n",
        "print(\"Score: {objectives}\")\n",
        "\n",
        "plot_objectives(objectives)"
      ]
    },
    {
      "cell_type": "markdown",
      "metadata": {
        "id": "tfspmfR9QqKV"
      },
      "source": [
        "\n",
        "Let's have a look at the optimisation algorithm statistics. We can plot the minimal score (sum of all the scores) found in every generation."
      ]
    },
    {
      "cell_type": "code",
      "execution_count": 33,
      "metadata": {
        "colab": {
          "base_uri": "https://localhost:8080/",
          "height": 279
        },
        "id": "6B4giUhLQqKW",
        "outputId": "aaaa84f6-df6d-4449-dad4-1987494bd2ec"
      },
      "outputs": [
        {
          "output_type": "display_data",
          "data": {
            "text/plain": [
              "<Figure size 432x288 with 1 Axes>"
            ],
            "image/png": "[encoded data removed]"
          },
          "metadata": {
            "needs_background": "light"
          }
        }
      ],
      "source": [
        "gen_numbers = logs.select('gen')\n",
        "min_fitness = logs.select('min')\n",
        "max_fitness = logs.select('max')\n",
        "\n",
        "plt.plot(gen_numbers, min_fitness, label='min fitness', color = 'k')\n",
        "plt.xlabel('generation #')\n",
        "plt.ylabel('score (# std)')\n",
        "plt.legend()\n",
        "plt.xlim(min(gen_numbers) - 1, max(gen_numbers) + 1) \n",
        "plt.ylim(0.9*min(min_fitness), 1.1 * max(min_fitness));"
      ]
    },
    {
      "cell_type": "markdown",
      "metadata": {
        "id": "Ka3O4YQDQqKW"
      },
      "source": [
        "We can observe a progressive convergence of the model scores towards smaller values. This means that the model features approximating the experimental ones."
      ]
    }
  ],
  "metadata": {
    "kernelspec": {
      "display_name": "Python",
      "language": "python",
      "name": "python3"
    },
    "language_info": {
      "codemirror_mode": {
        "name": "ipython",
        "version": 3
      },
      "file_extension": ".py",
      "mimetype": "text/x-python",
      "name": "python",
      "nbconvert_exporter": "python",
      "pygments_lexer": "ipython3",
      "version": "3.8.10"
    },
    "colab": {
      "provenance": []
    }
  },
  "nbformat": 4,
  "nbformat_minor": 0
}